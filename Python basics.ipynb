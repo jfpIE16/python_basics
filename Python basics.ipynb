{
 "cells": [
  {
   "cell_type": "code",
   "execution_count": 3,
   "metadata": {},
   "outputs": [
    {
     "name": "stdout",
     "output_type": "stream",
     "text": [
      "Python 3.6.9\r\n"
     ]
    }
   ],
   "source": [
    "! python3 --version"
   ]
  },
  {
   "cell_type": "markdown",
   "metadata": {},
   "source": [
    "# Aspectos básicos de Python\n",
    "En este *jupyter notebook* se dará una definición con mis propias palabras de varios aspectos básicos de python y se dara un ejemplo."
   ]
  },
  {
   "cell_type": "markdown",
   "metadata": {},
   "source": [
    "## Funciones\n",
    "Una **función** es un conjunto de líneas de código que realizan una tarea específica, puede retornar un valor o solo ejecutar el código.\n",
    "En python se utiliza la siguiente estructura para declarar una función:\n",
    "\n",
    "```python\n",
    "def func_nombre(parametros):\n",
    "    linea1\n",
    "    linea2\n",
    "```\n",
    "\n",
    "Se declara la función utilizando la palabra reservada **def** se le asigna un nombre y se definen los parametros. Cabe destacar que la sintaxis de python se basa en tabulaciones, así que para agrupar un bloque de código de una función se debe insertar una tabulación.\n",
    "\n",
    "Como ejemplo se mostrara una función que retorna un saludo.\n"
   ]
  },
  {
   "cell_type": "code",
   "execution_count": 7,
   "metadata": {},
   "outputs": [
    {
     "name": "stdout",
     "output_type": "stream",
     "text": [
      "Hola José Fernando, bienvenido!\n"
     ]
    }
   ],
   "source": [
    "def imprimir_saludo(n):\n",
    "    print(f\"Hola {n}, bienvenido!\")\n",
    "    \n",
    "imprimir_saludo(\"José Fernando\")"
   ]
  },
  {
   "cell_type": "markdown",
   "metadata": {},
   "source": [
    "Para ejecutar la función se escribe su nombre y dentro de paréntesis se agregan los parametros que necesita para ejecutarse.\n",
    "### Parametros posicionales\n",
    "Por defecto los parametros que recibe una función son definidos por su posición. Por ejemplo,\n",
    "```python\n",
    "def sumar(a,b):\n",
    "    suma = a + b\n",
    "    return suma\n",
    "sumar(1,2)\n",
    "```\n",
    "Dentro de la función sumar el valor de **a** será 1 y **b** 2. Dado que por defecto la función recibe sus parametros posicionalmente."
   ]
  },
  {
   "cell_type": "code",
   "execution_count": 9,
   "metadata": {},
   "outputs": [
    {
     "data": {
      "text/plain": [
       "'La suma de 1 y 2 es 3'"
      ]
     },
     "execution_count": 9,
     "metadata": {},
     "output_type": "execute_result"
    }
   ],
   "source": [
    "def sumar(a,b):\n",
    "    return f\"La suma de a={a} y b={b} es {a+b}\"\n",
    "sumar(1,2)"
   ]
  },
  {
   "cell_type": "markdown",
   "metadata": {},
   "source": [
    "### Parametros nombrados\n",
    "En python se puede asignar un nombre a cada parametro de una función de la siguiente manera.\n",
    "```python\n",
    "def sumar(b,a):\n",
    "    suma  = a + b\n",
    "    return suma\n",
    "sumar(b=10, a=5)\n",
    "```\n",
    "Se debe tomar en cuenta que para nombrar un parametro hay que asignarle un valor al nombre de la variable cuando se llama a la función."
   ]
  },
  {
   "cell_type": "code",
   "execution_count": 16,
   "metadata": {},
   "outputs": [
    {
     "name": "stdout",
     "output_type": "stream",
     "text": [
      "La suma de c=20 y d=10 es 30\n"
     ]
    }
   ],
   "source": [
    "def sumar(c, d):\n",
    "    return f\"La suma de c={c} y d={d} es {c+d}\"\n",
    "\n",
    "print(sumar(d=10, c=20))\n"
   ]
  },
  {
   "cell_type": "markdown",
   "metadata": {},
   "source": [
    "### Retorno de múltiples valores\n",
    "Una función puede retornar multiples valores, si se almacena en una sola variable este retorno multiple esta variable sería de tipo *tuple* como se ve a continuación:"
   ]
  },
  {
   "cell_type": "code",
   "execution_count": 13,
   "metadata": {},
   "outputs": [
    {
     "name": "stdout",
     "output_type": "stream",
     "text": [
      "(5, 10, 15) es de tipo <class 'tuple'>\n"
     ]
    }
   ],
   "source": [
    "def aumentar(a):\n",
    "    return a, a*2, a*3\n",
    "#Almacenamos el valor retornado en una sola variable e imprimimos el tipo\n",
    "a = aumentar(5)\n",
    "print(f\"{a} es de tipo {type(a)}\")"
   ]
  },
  {
   "cell_type": "code",
   "execution_count": 15,
   "metadata": {},
   "outputs": [
    {
     "name": "stdout",
     "output_type": "stream",
     "text": [
      "5 es de tipo <class 'int'>\n"
     ]
    }
   ],
   "source": [
    "#Almacenamos el valor retornado en 3 variables que es el retorno de nuestra función\n",
    "a_1, a_2, a_3 = aumentar(5)\n",
    "print(f\"{a_1} es de tipo {type(a_1)}\")"
   ]
  },
  {
   "cell_type": "markdown",
   "metadata": {},
   "source": [
    "Como se observa al obtener el retorno de la función como variables separadas utilizando la notación \n",
    "> *var1, var2, .. ,varn* = funcion(parametros)\n",
    "\n",
    "Se obtiene que cada variable es del tipo que se envío originalmente."
   ]
  },
  {
   "cell_type": "markdown",
   "metadata": {},
   "source": [
    "### Funciones como objetos y como parametros de otras funciones\n",
    "En python todo es representado como un objeto o una relación entre objetos, por ese motivo es posible que se pueda enviar una función como parametro de otra. Veamos el siguiente ejemplo que combina las funciones creadas en este cuaderno interactivo."
   ]
  },
  {
   "cell_type": "code",
   "execution_count": 23,
   "metadata": {},
   "outputs": [
    {
     "name": "stdout",
     "output_type": "stream",
     "text": [
      "Hola Juan\n",
      "Hola Miguel\n"
     ]
    }
   ],
   "source": [
    "def saludo(a):\n",
    "    return f\"Hola {a}\"\n",
    "\n",
    "def ejecutar(func, *args):\n",
    "    for n in args:\n",
    "        print(f\"{saludo(n)}\")\n",
    "    \n",
    "ejecutar(saludo,\"Juan\", \"Miguel\")"
   ]
  },
  {
   "cell_type": "markdown",
   "metadata": {},
   "source": [
    "### Funciones anonimas o lambda\n",
    "Son aquellas funciones que no tienen un nombre, y pueden ser utilizadas sin hacer referencia a uno. Se debe tomar en cuenta que una función anónima solo admite una expresión y no un conjunto de líneas.\n",
    "\n",
    "En Python se implementan estas funciones usando expresiones *lambda* de la siguiente forma:"
   ]
  },
  {
   "cell_type": "code",
   "execution_count": 24,
   "metadata": {},
   "outputs": [
    {
     "data": {
      "text/plain": [
       "625"
      ]
     },
     "execution_count": 24,
     "metadata": {},
     "output_type": "execute_result"
    }
   ],
   "source": [
    "#Función lambda para calcular el cuadrado de un número\n",
    "f = lambda x:x**2\n",
    "f(25)"
   ]
  },
  {
   "cell_type": "markdown",
   "metadata": {},
   "source": [
    "Las funciones anonimas se utilizan para llevar a cabo expresiones simples mientras que las funciones normales se usan cuando su objetivo es aplicar varias operaciones o procedimientos mas extensos."
   ]
  }
 ],
 "metadata": {
  "kernelspec": {
   "display_name": "Python 3",
   "language": "python",
   "name": "python3"
  },
  "language_info": {
   "codemirror_mode": {
    "name": "ipython",
    "version": 3
   },
   "file_extension": ".py",
   "mimetype": "text/x-python",
   "name": "python",
   "nbconvert_exporter": "python",
   "pygments_lexer": "ipython3",
   "version": "3.6.9"
  }
 },
 "nbformat": 4,
 "nbformat_minor": 2
}
